{
 "cells": [
  {
   "cell_type": "markdown",
   "id": "472472d5-6a55-4a8e-8e2f-b94c8b96f1b1",
   "metadata": {},
   "source": [
    "# Visualize the PDB structure"
   ]
  },
  {
   "cell_type": "code",
   "execution_count": 1,
   "id": "2c7844a9-c9bf-47dd-96f9-beae07b312b5",
   "metadata": {},
   "outputs": [
    {
     "data": {
      "application/vnd.jupyter.widget-view+json": {
       "model_id": "f4fd1d1f829441a6a7640babf2124f79",
       "version_major": 2,
       "version_minor": 0
      },
      "text/plain": []
     },
     "metadata": {},
     "output_type": "display_data"
    }
   ],
   "source": [
    "import nglview\n",
    "import mdtraj as md"
   ]
  },
  {
   "cell_type": "code",
   "execution_count": 9,
   "id": "fda7f31c-d5b5-4856-befe-5724997024c7",
   "metadata": {},
   "outputs": [
    {
     "name": "stderr",
     "output_type": "stream",
     "text": [
      "/opt/anaconda3/lib/python3.11/site-packages/mdtraj/formats/pdb/pdbfile.py:200: UserWarning: Unlikely unit cell vectors detected in PDB file likely resulting from a dummy CRYST1 record. Discarding unit cell vectors.\n",
      "  warnings.warn('Unlikely unit cell vectors detected in PDB file likely '\n"
     ]
    }
   ],
   "source": [
    "traj = md.load('1unc.pdb')"
   ]
  },
  {
   "cell_type": "code",
   "execution_count": 10,
   "id": "f384f1af-1a35-4832-97ff-8c49d37cca37",
   "metadata": {},
   "outputs": [
    {
     "data": {
      "application/vnd.jupyter.widget-view+json": {
       "model_id": "85fa7053b7d1437bb5d46b75afde1176",
       "version_major": 2,
       "version_minor": 0
      },
      "text/plain": [
       "NGLWidget(max_frame=24)"
      ]
     },
     "metadata": {},
     "output_type": "display_data"
    }
   ],
   "source": [
    "view = nglview.show_mdtraj(traj) # load \"3pqr\" from RCSB PDB and display viewer widget\n",
    "view"
   ]
  },
  {
   "cell_type": "code",
   "execution_count": 11,
   "id": "62ae13cd-fefa-4b4a-b47d-6a7f247a2686",
   "metadata": {},
   "outputs": [
    {
     "name": "stdout",
     "output_type": "stream",
     "text": [
      "[ 0.20299715 -0.30105713  0.1391943 ]\n"
     ]
    }
   ],
   "source": [
    "xyz = traj.atom_slice(traj.topology.select('name==CA')).xyz[0]\n",
    "print(xyz.mean(axis=0))"
   ]
  },
  {
   "cell_type": "code",
   "execution_count": null,
   "id": "ae753c0a-6b09-4f85-9aa4-e8008b5b9ff2",
   "metadata": {},
   "outputs": [],
   "source": []
  }
 ],
 "metadata": {
  "kernelspec": {
   "display_name": "Python 3 (ipykernel)",
   "language": "python",
   "name": "python3"
  },
  "language_info": {
   "codemirror_mode": {
    "name": "ipython",
    "version": 3
   },
   "file_extension": ".py",
   "mimetype": "text/x-python",
   "name": "python",
   "nbconvert_exporter": "python",
   "pygments_lexer": "ipython3",
   "version": "3.11.5"
  }
 },
 "nbformat": 4,
 "nbformat_minor": 5
}
