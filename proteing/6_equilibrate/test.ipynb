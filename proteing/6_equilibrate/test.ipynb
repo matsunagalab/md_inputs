{
 "cells": [
  {
   "cell_type": "code",
   "execution_count": 2,
   "id": "d654a9b7-bb8b-447b-bab1-9fda98b82933",
   "metadata": {},
   "outputs": [],
   "source": [
    "from openmm.app import *\n",
    "from openmm import *\n",
    "from openmm.unit import *\n",
    "from sys import stdout"
   ]
  },
  {
   "cell_type": "code",
   "execution_count": 3,
   "id": "f8aef5af-35e3-4355-bfaa-d2576cacfb4b",
   "metadata": {},
   "outputs": [],
   "source": [
    "gro = GromacsGroFile('../5_genion/ions.gro')"
   ]
  },
  {
   "cell_type": "code",
   "execution_count": 4,
   "id": "59f85bc6-f97e-4bcf-97d3-247ffda1943a",
   "metadata": {},
   "outputs": [],
   "source": [
    "top = GromacsTopFile('../5_genion/topol.top', periodicBoxVectors=gro.getPeriodicBoxVectors(),\n",
    "        includeDir='./amber03ws_dyes.ff')"
   ]
  },
  {
   "cell_type": "code",
   "execution_count": 5,
   "id": "84ce4a98-a4e4-4b31-acbd-3d216c515178",
   "metadata": {},
   "outputs": [
    {
     "data": {
      "text/plain": [
       "Quantity(value=(Vec3(x=8.59984, y=0, z=0), Vec3(x=0, y=8.59984, z=0), Vec3(x=0, y=0, z=8.59984)), unit=nanometer)"
      ]
     },
     "execution_count": 5,
     "metadata": {},
     "output_type": "execute_result"
    }
   ],
   "source": [
    "top.topology.getPeriodicBoxVectors()"
   ]
  },
  {
   "cell_type": "code",
   "execution_count": 6,
   "id": "3e43ab1c-d2cf-4b9c-98ad-a74a1d2ad964",
   "metadata": {},
   "outputs": [],
   "source": [
    "system = top.createSystem(nonbondedMethod=PME, nonbondedCutoff=1*nanometer,\n",
    "        constraints=HBonds)"
   ]
  },
  {
   "cell_type": "code",
   "execution_count": 7,
   "id": "29110e82-f8f0-4860-92a9-ffada760acc6",
   "metadata": {},
   "outputs": [],
   "source": [
    "integrator = LangevinMiddleIntegrator(300*kelvin, 1/picosecond, 0.001*picoseconds)\n",
    "simulation = Simulation(top.topology, system, integrator)\n",
    "simulation.context.setPositions(gro.positions)"
   ]
  },
  {
   "cell_type": "code",
   "execution_count": 8,
   "id": "939551c5-f0af-4b8a-baf8-2be68280cb59",
   "metadata": {},
   "outputs": [],
   "source": [
    "simulation.reporters.append(PDBReporter('output.pdb', 1))\n",
    "simulation.reporters.append(StateDataReporter(stdout, 1, step=True,\n",
    "        potentialEnergy=True, temperature=True))"
   ]
  },
  {
   "cell_type": "code",
   "execution_count": 9,
   "id": "86fb4c08-3175-4043-aa08-b569da77fce5",
   "metadata": {},
   "outputs": [],
   "source": [
    "#simulation.minimizeEnergy(10)"
   ]
  },
  {
   "cell_type": "code",
   "execution_count": 10,
   "id": "90dbe537-0325-461a-b54c-d76e6caf9260",
   "metadata": {},
   "outputs": [
    {
     "name": "stdout",
     "output_type": "stream",
     "text": [
      "#\"Step\",\"Potential Energy (kJ/mole)\",\"Temperature (K)\"\n",
      "1,-744934.5022480143,168.05356155397905\n",
      "2,-878635.0022480143,324.73925555344874\n",
      "3,-601807.0022480143,114374.37081227856\n",
      "4,-1224103.0022480143,111031.2603522934\n",
      "5,-1471306.0022480143,3057.6633710519877\n",
      "6,-1828695.0022480143,3288.6825079444384\n",
      "7,-2317209.5022480143,3818.173528475796\n",
      "8,-3046408.5022480143,4821.159395454972\n",
      "9,-4134872.5022480143,6776.2853728099535\n",
      "10,61590296.99775199,16286.70070324322\n"
     ]
    }
   ],
   "source": [
    "simulation.step(10)"
   ]
  },
  {
   "cell_type": "code",
   "execution_count": null,
   "id": "1c226177-d832-43b6-8eff-c588737154d9",
   "metadata": {},
   "outputs": [],
   "source": []
  },
  {
   "cell_type": "code",
   "execution_count": null,
   "id": "ab7aceab-206c-4b3d-a2e8-7e44cd20ea06",
   "metadata": {},
   "outputs": [],
   "source": []
  }
 ],
 "metadata": {
  "kernelspec": {
   "display_name": "Python 3 (ipykernel)",
   "language": "python",
   "name": "python3"
  },
  "language_info": {
   "codemirror_mode": {
    "name": "ipython",
    "version": 3
   },
   "file_extension": ".py",
   "mimetype": "text/x-python",
   "name": "python",
   "nbconvert_exporter": "python",
   "pygments_lexer": "ipython3",
   "version": "3.11.0"
  }
 },
 "nbformat": 4,
 "nbformat_minor": 5
}
